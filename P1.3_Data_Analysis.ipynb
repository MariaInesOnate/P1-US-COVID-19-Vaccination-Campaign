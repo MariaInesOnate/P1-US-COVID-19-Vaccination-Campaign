{
 "cells": [
  {
   "cell_type": "markdown",
   "metadata": {},
   "source": [
    "# Data Analysis"
   ]
  },
  {
   "cell_type": "code",
   "execution_count": 1,
   "metadata": {},
   "outputs": [],
   "source": [
    "# Import dependencies and setup\n",
    "import matplotlib.pyplot as plt\n",
    "import pandas as pd\n",
    "import scipy.stats as st\n",
    "from scipy.stats import linregress\n",
    "import numpy as np "
   ]
  },
  {
   "cell_type": "code",
   "execution_count": 55,
   "metadata": {},
   "outputs": [
    {
     "data": {
      "text/html": [
       "<div>\n",
       "<style scoped>\n",
       "    .dataframe tbody tr th:only-of-type {\n",
       "        vertical-align: middle;\n",
       "    }\n",
       "\n",
       "    .dataframe tbody tr th {\n",
       "        vertical-align: top;\n",
       "    }\n",
       "\n",
       "    .dataframe thead th {\n",
       "        text-align: right;\n",
       "    }\n",
       "</style>\n",
       "<table border=\"1\" class=\"dataframe\">\n",
       "  <thead>\n",
       "    <tr style=\"text-align: right;\">\n",
       "      <th></th>\n",
       "      <th>FIPS Code</th>\n",
       "      <th>Patients</th>\n",
       "      <th>Hospitalized</th>\n",
       "      <th>ICU</th>\n",
       "      <th>Death</th>\n",
       "    </tr>\n",
       "  </thead>\n",
       "  <tbody>\n",
       "    <tr>\n",
       "      <th>0</th>\n",
       "      <td>1001.0</td>\n",
       "      <td>6622.0</td>\n",
       "      <td>148.0</td>\n",
       "      <td>0.0</td>\n",
       "      <td>0.0</td>\n",
       "    </tr>\n",
       "    <tr>\n",
       "      <th>1</th>\n",
       "      <td>1003.0</td>\n",
       "      <td>19052.0</td>\n",
       "      <td>280.0</td>\n",
       "      <td>0.0</td>\n",
       "      <td>119.0</td>\n",
       "    </tr>\n",
       "    <tr>\n",
       "      <th>2</th>\n",
       "      <td>1005.0</td>\n",
       "      <td>2001.0</td>\n",
       "      <td>62.0</td>\n",
       "      <td>0.0</td>\n",
       "      <td>0.0</td>\n",
       "    </tr>\n",
       "    <tr>\n",
       "      <th>3</th>\n",
       "      <td>1007.0</td>\n",
       "      <td>2408.0</td>\n",
       "      <td>62.0</td>\n",
       "      <td>0.0</td>\n",
       "      <td>0.0</td>\n",
       "    </tr>\n",
       "    <tr>\n",
       "      <th>4</th>\n",
       "      <td>1009.0</td>\n",
       "      <td>6376.0</td>\n",
       "      <td>87.0</td>\n",
       "      <td>0.0</td>\n",
       "      <td>11.0</td>\n",
       "    </tr>\n",
       "  </tbody>\n",
       "</table>\n",
       "</div>"
      ],
      "text/plain": [
       "   FIPS Code  Patients  Hospitalized  ICU  Death\n",
       "0     1001.0    6622.0         148.0  0.0    0.0\n",
       "1     1003.0   19052.0         280.0  0.0  119.0\n",
       "2     1005.0    2001.0          62.0  0.0    0.0\n",
       "3     1007.0    2408.0          62.0  0.0    0.0\n",
       "4     1009.0    6376.0          87.0  0.0   11.0"
      ]
     },
     "execution_count": 55,
     "metadata": {},
     "output_type": "execute_result"
    }
   ],
   "source": [
    "#Import files \n",
    "patients_df = pd.read_csv('analysis_data/patients.csv')\n",
    "hospitalized_df = pd.read_csv('analysis_data/hospitalized.csv')\n",
    "icu_df = pd.read_csv('analysis_data/icu.csv')\n",
    "death_df = pd.read_csv('analysis_data/death.csv')\n",
    "total_abs = pd.read_csv('analysis_data/total_abs.csv')\n",
    "\n",
    "#Census data \n",
    "census_data = pd.read_csv('analysis_data/census_2019.csv')\n",
    "total_abs.head()"
   ]
  },
  {
   "cell_type": "code",
   "execution_count": 56,
   "metadata": {},
   "outputs": [
    {
     "data": {
      "text/html": [
       "<div>\n",
       "<style scoped>\n",
       "    .dataframe tbody tr th:only-of-type {\n",
       "        vertical-align: middle;\n",
       "    }\n",
       "\n",
       "    .dataframe tbody tr th {\n",
       "        vertical-align: top;\n",
       "    }\n",
       "\n",
       "    .dataframe thead th {\n",
       "        text-align: right;\n",
       "    }\n",
       "</style>\n",
       "<table border=\"1\" class=\"dataframe\">\n",
       "  <thead>\n",
       "    <tr style=\"text-align: right;\">\n",
       "      <th></th>\n",
       "      <th>FIPS Code</th>\n",
       "      <th>Patients</th>\n",
       "      <th>Hospitalized</th>\n",
       "      <th>ICU</th>\n",
       "      <th>Death</th>\n",
       "    </tr>\n",
       "  </thead>\n",
       "  <tbody>\n",
       "    <tr>\n",
       "      <th>3142</th>\n",
       "      <td>NaN</td>\n",
       "      <td>1788654.0</td>\n",
       "      <td>59949.0</td>\n",
       "      <td>6205.0</td>\n",
       "      <td>19529.0</td>\n",
       "    </tr>\n",
       "    <tr>\n",
       "      <th>204</th>\n",
       "      <td>6037.0</td>\n",
       "      <td>1124813.0</td>\n",
       "      <td>81869.0</td>\n",
       "      <td>15949.0</td>\n",
       "      <td>21291.0</td>\n",
       "    </tr>\n",
       "    <tr>\n",
       "      <th>103</th>\n",
       "      <td>4013.0</td>\n",
       "      <td>531243.0</td>\n",
       "      <td>46700.0</td>\n",
       "      <td>1.0</td>\n",
       "      <td>8435.0</td>\n",
       "    </tr>\n",
       "    <tr>\n",
       "      <th>610</th>\n",
       "      <td>17031.0</td>\n",
       "      <td>530918.0</td>\n",
       "      <td>31810.0</td>\n",
       "      <td>5525.0</td>\n",
       "      <td>11573.0</td>\n",
       "    </tr>\n",
       "    <tr>\n",
       "      <th>362</th>\n",
       "      <td>12086.0</td>\n",
       "      <td>398878.0</td>\n",
       "      <td>9375.0</td>\n",
       "      <td>1.0</td>\n",
       "      <td>6136.0</td>\n",
       "    </tr>\n",
       "  </tbody>\n",
       "</table>\n",
       "</div>"
      ],
      "text/plain": [
       "      FIPS Code   Patients  Hospitalized      ICU    Death\n",
       "3142        NaN  1788654.0       59949.0   6205.0  19529.0\n",
       "204      6037.0  1124813.0       81869.0  15949.0  21291.0\n",
       "103      4013.0   531243.0       46700.0      1.0   8435.0\n",
       "610     17031.0   530918.0       31810.0   5525.0  11573.0\n",
       "362     12086.0   398878.0        9375.0      1.0   6136.0"
      ]
     },
     "execution_count": 56,
     "metadata": {},
     "output_type": "execute_result"
    }
   ],
   "source": [
    "#See most affected FIPS and less affected FIPS ( by patient number)\n",
    "worst_fip_patient= total_abs.sort_values(by='Patients', ascending=False)\n",
    "worst_fip_patient.head()"
   ]
  },
  {
   "cell_type": "code",
   "execution_count": 57,
   "metadata": {},
   "outputs": [],
   "source": [
    "worst_ten_pat = worst_fip_patient.iloc[1:11, :]"
   ]
  },
  {
   "cell_type": "code",
   "execution_count": 58,
   "metadata": {},
   "outputs": [
    {
     "data": {
      "text/html": [
       "<div>\n",
       "<style scoped>\n",
       "    .dataframe tbody tr th:only-of-type {\n",
       "        vertical-align: middle;\n",
       "    }\n",
       "\n",
       "    .dataframe tbody tr th {\n",
       "        vertical-align: top;\n",
       "    }\n",
       "\n",
       "    .dataframe thead th {\n",
       "        text-align: right;\n",
       "    }\n",
       "</style>\n",
       "<table border=\"1\" class=\"dataframe\">\n",
       "  <thead>\n",
       "    <tr style=\"text-align: right;\">\n",
       "      <th></th>\n",
       "      <th>FIPS Code</th>\n",
       "      <th>Patients</th>\n",
       "      <th>Hospitalized</th>\n",
       "      <th>ICU</th>\n",
       "      <th>Death</th>\n",
       "    </tr>\n",
       "  </thead>\n",
       "  <tbody>\n",
       "    <tr>\n",
       "      <th>1571</th>\n",
       "      <td>29177.0</td>\n",
       "      <td>0.0</td>\n",
       "      <td>0.0</td>\n",
       "      <td>0.0</td>\n",
       "      <td>0.0</td>\n",
       "    </tr>\n",
       "    <tr>\n",
       "      <th>1554</th>\n",
       "      <td>29143.0</td>\n",
       "      <td>0.0</td>\n",
       "      <td>0.0</td>\n",
       "      <td>0.0</td>\n",
       "      <td>0.0</td>\n",
       "    </tr>\n",
       "    <tr>\n",
       "      <th>1553</th>\n",
       "      <td>29141.0</td>\n",
       "      <td>0.0</td>\n",
       "      <td>0.0</td>\n",
       "      <td>0.0</td>\n",
       "      <td>0.0</td>\n",
       "    </tr>\n",
       "    <tr>\n",
       "      <th>1552</th>\n",
       "      <td>29139.0</td>\n",
       "      <td>0.0</td>\n",
       "      <td>0.0</td>\n",
       "      <td>0.0</td>\n",
       "      <td>0.0</td>\n",
       "    </tr>\n",
       "    <tr>\n",
       "      <th>1551</th>\n",
       "      <td>29137.0</td>\n",
       "      <td>0.0</td>\n",
       "      <td>0.0</td>\n",
       "      <td>0.0</td>\n",
       "      <td>0.0</td>\n",
       "    </tr>\n",
       "    <tr>\n",
       "      <th>...</th>\n",
       "      <td>...</td>\n",
       "      <td>...</td>\n",
       "      <td>...</td>\n",
       "      <td>...</td>\n",
       "      <td>...</td>\n",
       "    </tr>\n",
       "    <tr>\n",
       "      <th>923</th>\n",
       "      <td>20071.0</td>\n",
       "      <td>0.0</td>\n",
       "      <td>0.0</td>\n",
       "      <td>0.0</td>\n",
       "      <td>0.0</td>\n",
       "    </tr>\n",
       "    <tr>\n",
       "      <th>978</th>\n",
       "      <td>20181.0</td>\n",
       "      <td>0.0</td>\n",
       "      <td>0.0</td>\n",
       "      <td>0.0</td>\n",
       "      <td>0.0</td>\n",
       "    </tr>\n",
       "    <tr>\n",
       "      <th>984</th>\n",
       "      <td>20193.0</td>\n",
       "      <td>0.0</td>\n",
       "      <td>0.0</td>\n",
       "      <td>0.0</td>\n",
       "      <td>0.0</td>\n",
       "    </tr>\n",
       "    <tr>\n",
       "      <th>1798</th>\n",
       "      <td>35006.0</td>\n",
       "      <td>1000.0</td>\n",
       "      <td>0.0</td>\n",
       "      <td>0.0</td>\n",
       "      <td>0.0</td>\n",
       "    </tr>\n",
       "    <tr>\n",
       "      <th>784</th>\n",
       "      <td>18175.0</td>\n",
       "      <td>1002.0</td>\n",
       "      <td>24.0</td>\n",
       "      <td>0.0</td>\n",
       "      <td>0.0</td>\n",
       "    </tr>\n",
       "  </tbody>\n",
       "</table>\n",
       "<p>1650 rows × 5 columns</p>\n",
       "</div>"
      ],
      "text/plain": [
       "      FIPS Code  Patients  Hospitalized  ICU  Death\n",
       "1571    29177.0       0.0           0.0  0.0    0.0\n",
       "1554    29143.0       0.0           0.0  0.0    0.0\n",
       "1553    29141.0       0.0           0.0  0.0    0.0\n",
       "1552    29139.0       0.0           0.0  0.0    0.0\n",
       "1551    29137.0       0.0           0.0  0.0    0.0\n",
       "...         ...       ...           ...  ...    ...\n",
       "923     20071.0       0.0           0.0  0.0    0.0\n",
       "978     20181.0       0.0           0.0  0.0    0.0\n",
       "984     20193.0       0.0           0.0  0.0    0.0\n",
       "1798    35006.0    1000.0           0.0  0.0    0.0\n",
       "784     18175.0    1002.0          24.0  0.0    0.0\n",
       "\n",
       "[1650 rows x 5 columns]"
      ]
     },
     "execution_count": 58,
     "metadata": {},
     "output_type": "execute_result"
    }
   ],
   "source": [
    "best_fip_patient= total_abs.sort_values(by='Patients', ascending=True)\n",
    "best_fip_patient.head(1650)"
   ]
  },
  {
   "cell_type": "code",
   "execution_count": 59,
   "metadata": {},
   "outputs": [],
   "source": [
    "#See most affected FIPS and less affected FIPS ( by death number)\n",
    "worst_fip_death = total_abs.sort_values(by='Death', ascending=False)"
   ]
  },
  {
   "cell_type": "code",
   "execution_count": 62,
   "metadata": {},
   "outputs": [
    {
     "data": {
      "text/html": [
       "<div>\n",
       "<style scoped>\n",
       "    .dataframe tbody tr th:only-of-type {\n",
       "        vertical-align: middle;\n",
       "    }\n",
       "\n",
       "    .dataframe tbody tr th {\n",
       "        vertical-align: top;\n",
       "    }\n",
       "\n",
       "    .dataframe thead th {\n",
       "        text-align: right;\n",
       "    }\n",
       "</style>\n",
       "<table border=\"1\" class=\"dataframe\">\n",
       "  <thead>\n",
       "    <tr style=\"text-align: right;\">\n",
       "      <th></th>\n",
       "      <th>FIPS Code</th>\n",
       "      <th>Patients</th>\n",
       "      <th>Hospitalized</th>\n",
       "      <th>ICU</th>\n",
       "      <th>Death</th>\n",
       "    </tr>\n",
       "  </thead>\n",
       "  <tbody>\n",
       "    <tr>\n",
       "      <th>204</th>\n",
       "      <td>6037.0</td>\n",
       "      <td>1124813.0</td>\n",
       "      <td>81869.0</td>\n",
       "      <td>15949.0</td>\n",
       "      <td>21291.0</td>\n",
       "    </tr>\n",
       "    <tr>\n",
       "      <th>3142</th>\n",
       "      <td>NaN</td>\n",
       "      <td>1788654.0</td>\n",
       "      <td>59949.0</td>\n",
       "      <td>6205.0</td>\n",
       "      <td>19529.0</td>\n",
       "    </tr>\n",
       "    <tr>\n",
       "      <th>610</th>\n",
       "      <td>17031.0</td>\n",
       "      <td>530918.0</td>\n",
       "      <td>31810.0</td>\n",
       "      <td>5525.0</td>\n",
       "      <td>11573.0</td>\n",
       "    </tr>\n",
       "    <tr>\n",
       "      <th>1851</th>\n",
       "      <td>36047.0</td>\n",
       "      <td>268440.0</td>\n",
       "      <td>33398.0</td>\n",
       "      <td>2396.0</td>\n",
       "      <td>10704.0</td>\n",
       "    </tr>\n",
       "    <tr>\n",
       "      <th>1868</th>\n",
       "      <td>36081.0</td>\n",
       "      <td>266518.0</td>\n",
       "      <td>33505.0</td>\n",
       "      <td>2539.0</td>\n",
       "      <td>9928.0</td>\n",
       "    </tr>\n",
       "    <tr>\n",
       "      <th>103</th>\n",
       "      <td>4013.0</td>\n",
       "      <td>531243.0</td>\n",
       "      <td>46700.0</td>\n",
       "      <td>1.0</td>\n",
       "      <td>8435.0</td>\n",
       "    </tr>\n",
       "    <tr>\n",
       "      <th>1830</th>\n",
       "      <td>36005.0</td>\n",
       "      <td>176885.0</td>\n",
       "      <td>24002.0</td>\n",
       "      <td>3006.0</td>\n",
       "      <td>6592.0</td>\n",
       "    </tr>\n",
       "    <tr>\n",
       "      <th>362</th>\n",
       "      <td>12086.0</td>\n",
       "      <td>398878.0</td>\n",
       "      <td>9375.0</td>\n",
       "      <td>1.0</td>\n",
       "      <td>6136.0</td>\n",
       "    </tr>\n",
       "    <tr>\n",
       "      <th>215</th>\n",
       "      <td>6059.0</td>\n",
       "      <td>251902.0</td>\n",
       "      <td>10366.0</td>\n",
       "      <td>1875.0</td>\n",
       "      <td>4121.0</td>\n",
       "    </tr>\n",
       "    <tr>\n",
       "      <th>1858</th>\n",
       "      <td>36061.0</td>\n",
       "      <td>131549.0</td>\n",
       "      <td>15941.0</td>\n",
       "      <td>1095.0</td>\n",
       "      <td>4046.0</td>\n",
       "    </tr>\n",
       "    <tr>\n",
       "      <th>221</th>\n",
       "      <td>6071.0</td>\n",
       "      <td>289868.0</td>\n",
       "      <td>9806.0</td>\n",
       "      <td>1386.0</td>\n",
       "      <td>3724.0</td>\n",
       "    </tr>\n",
       "  </tbody>\n",
       "</table>\n",
       "</div>"
      ],
      "text/plain": [
       "      FIPS Code   Patients  Hospitalized      ICU    Death\n",
       "204      6037.0  1124813.0       81869.0  15949.0  21291.0\n",
       "3142        NaN  1788654.0       59949.0   6205.0  19529.0\n",
       "610     17031.0   530918.0       31810.0   5525.0  11573.0\n",
       "1851    36047.0   268440.0       33398.0   2396.0  10704.0\n",
       "1868    36081.0   266518.0       33505.0   2539.0   9928.0\n",
       "103      4013.0   531243.0       46700.0      1.0   8435.0\n",
       "1830    36005.0   176885.0       24002.0   3006.0   6592.0\n",
       "362     12086.0   398878.0        9375.0      1.0   6136.0\n",
       "215      6059.0   251902.0       10366.0   1875.0   4121.0\n",
       "1858    36061.0   131549.0       15941.0   1095.0   4046.0\n",
       "221      6071.0   289868.0        9806.0   1386.0   3724.0"
      ]
     },
     "execution_count": 62,
     "metadata": {},
     "output_type": "execute_result"
    }
   ],
   "source": [
    "worst_ten_death = worst_fip_death.iloc[0:11, :]\n",
    "worst_ten_death"
   ]
  },
  {
   "cell_type": "markdown",
   "metadata": {},
   "source": [
    "## Vaccinated vs. Time "
   ]
  },
  {
   "cell_type": "code",
   "execution_count": null,
   "metadata": {},
   "outputs": [],
   "source": []
  },
  {
   "cell_type": "code",
   "execution_count": null,
   "metadata": {},
   "outputs": [],
   "source": []
  },
  {
   "cell_type": "code",
   "execution_count": null,
   "metadata": {},
   "outputs": [],
   "source": []
  },
  {
   "cell_type": "markdown",
   "metadata": {},
   "source": [
    "## Time Line for worst FIPS "
   ]
  },
  {
   "cell_type": "code",
   "execution_count": null,
   "metadata": {},
   "outputs": [],
   "source": []
  },
  {
   "cell_type": "code",
   "execution_count": null,
   "metadata": {},
   "outputs": [],
   "source": []
  },
  {
   "cell_type": "code",
   "execution_count": null,
   "metadata": {},
   "outputs": [],
   "source": []
  },
  {
   "cell_type": "markdown",
   "metadata": {},
   "source": [
    "## Sex, ethnic group and age of best against worst FIPS"
   ]
  },
  {
   "cell_type": "code",
   "execution_count": null,
   "metadata": {},
   "outputs": [],
   "source": []
  },
  {
   "cell_type": "code",
   "execution_count": null,
   "metadata": {},
   "outputs": [],
   "source": []
  },
  {
   "cell_type": "code",
   "execution_count": null,
   "metadata": {},
   "outputs": [],
   "source": []
  },
  {
   "cell_type": "markdown",
   "metadata": {},
   "source": [
    "## Scatter (patients and vaccinated) "
   ]
  },
  {
   "cell_type": "code",
   "execution_count": null,
   "metadata": {},
   "outputs": [],
   "source": []
  },
  {
   "cell_type": "code",
   "execution_count": null,
   "metadata": {},
   "outputs": [],
   "source": []
  },
  {
   "cell_type": "code",
   "execution_count": null,
   "metadata": {},
   "outputs": [],
   "source": []
  },
  {
   "cell_type": "markdown",
   "metadata": {},
   "source": [
    "## Bars for ethnic groups "
   ]
  },
  {
   "cell_type": "code",
   "execution_count": null,
   "metadata": {},
   "outputs": [],
   "source": []
  },
  {
   "cell_type": "code",
   "execution_count": null,
   "metadata": {},
   "outputs": [],
   "source": []
  },
  {
   "cell_type": "code",
   "execution_count": null,
   "metadata": {},
   "outputs": [],
   "source": []
  },
  {
   "cell_type": "markdown",
   "metadata": {},
   "source": [
    "## Heatmap "
   ]
  },
  {
   "cell_type": "code",
   "execution_count": null,
   "metadata": {},
   "outputs": [],
   "source": []
  },
  {
   "cell_type": "code",
   "execution_count": null,
   "metadata": {},
   "outputs": [],
   "source": []
  },
  {
   "cell_type": "code",
   "execution_count": null,
   "metadata": {},
   "outputs": [],
   "source": []
  },
  {
   "cell_type": "code",
   "execution_count": null,
   "metadata": {},
   "outputs": [],
   "source": []
  },
  {
   "cell_type": "code",
   "execution_count": null,
   "metadata": {},
   "outputs": [],
   "source": []
  },
  {
   "cell_type": "markdown",
   "metadata": {},
   "source": [
    "## Regressions for sex, age and ethnic group "
   ]
  },
  {
   "cell_type": "code",
   "execution_count": null,
   "metadata": {},
   "outputs": [],
   "source": []
  },
  {
   "cell_type": "code",
   "execution_count": null,
   "metadata": {},
   "outputs": [],
   "source": []
  },
  {
   "cell_type": "code",
   "execution_count": null,
   "metadata": {},
   "outputs": [],
   "source": []
  },
  {
   "cell_type": "code",
   "execution_count": null,
   "metadata": {},
   "outputs": [],
   "source": []
  }
 ],
 "metadata": {
  "kernelspec": {
   "display_name": "Python 3",
   "language": "python",
   "name": "python3"
  },
  "language_info": {
   "codemirror_mode": {
    "name": "ipython",
    "version": 3
   },
   "file_extension": ".py",
   "mimetype": "text/x-python",
   "name": "python",
   "nbconvert_exporter": "python",
   "pygments_lexer": "ipython3",
   "version": "3.8.5"
  }
 },
 "nbformat": 4,
 "nbformat_minor": 5
}
