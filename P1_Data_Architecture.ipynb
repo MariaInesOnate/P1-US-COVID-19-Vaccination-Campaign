{
 "cells": [
  {
   "cell_type": "markdown",
   "metadata": {},
   "source": [
    "# Project 1\n",
    "### Epidemiological Study: US Vaccination Campaign (November 2020 - March 2021)\n",
    "---\n",
    "### Project Description/Outline\n",
    "Determine the effectiveness of the US vaccination campaign in attending the population that is most affected by covid-19 disease. This is achieved by revising the total number of doses applied, vaccination coverage, population demographics such as gender, race, socioeconomic status, and education, versus epidemiologic variables: incidence, prevalence, hospitalization, UCI, death numbers."
   ]
  },
  {
   "cell_type": "code",
   "execution_count": 1,
   "metadata": {},
   "outputs": [],
   "source": [
    "## Dependencies\n",
    "import pandas as pd\n",
    "\n"
   ]
  },
  {
   "cell_type": "markdown",
   "metadata": {},
   "source": [
    "### Covid-19 Vaccination Data"
   ]
  },
  {
   "cell_type": "code",
   "execution_count": 3,
   "metadata": {},
   "outputs": [
    {
     "data": {
      "text/html": [
       "<div>\n",
       "<style scoped>\n",
       "    .dataframe tbody tr th:only-of-type {\n",
       "        vertical-align: middle;\n",
       "    }\n",
       "\n",
       "    .dataframe tbody tr th {\n",
       "        vertical-align: top;\n",
       "    }\n",
       "\n",
       "    .dataframe thead th {\n",
       "        text-align: right;\n",
       "    }\n",
       "</style>\n",
       "<table border=\"1\" class=\"dataframe\">\n",
       "  <thead>\n",
       "    <tr style=\"text-align: right;\">\n",
       "      <th></th>\n",
       "      <th>FIPS Code</th>\n",
       "      <th>County Name</th>\n",
       "      <th>State</th>\n",
       "      <th>Estimated hesitant</th>\n",
       "      <th>Estimated strongly hesitant</th>\n",
       "      <th>Social Vulnerability Index (SVI)</th>\n",
       "      <th>SVI Category</th>\n",
       "      <th>CVAC level of concern for vaccination rollout</th>\n",
       "      <th>CVAC Level Of Concern</th>\n",
       "      <th>Percent adults fully vaccinated against COVID-19</th>\n",
       "      <th>Percent Hispanic</th>\n",
       "      <th>Percent non-Hispanic American Indian/Alaska Native</th>\n",
       "      <th>Percent non-Hispanic Asian</th>\n",
       "      <th>Percent non-Hispanic Black</th>\n",
       "      <th>Percent non-Hispanic Native Hawaiian/Pacific Islander</th>\n",
       "      <th>Percent non-Hispanic White</th>\n",
       "      <th>Geographical Point</th>\n",
       "      <th>State Code</th>\n",
       "      <th>County Boundary</th>\n",
       "      <th>State Boundary</th>\n",
       "    </tr>\n",
       "  </thead>\n",
       "  <tbody>\n",
       "    <tr>\n",
       "      <th>0</th>\n",
       "      <td>1131</td>\n",
       "      <td>Wilcox County, Alabama</td>\n",
       "      <td>ALABAMA</td>\n",
       "      <td>0.23</td>\n",
       "      <td>0.11</td>\n",
       "      <td>0.93</td>\n",
       "      <td>Very High Concern</td>\n",
       "      <td>0.94</td>\n",
       "      <td>Very High Concern</td>\n",
       "      <td>0.228</td>\n",
       "      <td>0.0053</td>\n",
       "      <td>0.0009</td>\n",
       "      <td>0.0003</td>\n",
       "      <td>0.6938</td>\n",
       "      <td>0.0000</td>\n",
       "      <td>0.2684</td>\n",
       "      <td>POINT (-86.844516 32.756889)</td>\n",
       "      <td>AL</td>\n",
       "      <td>MULTIPOLYGON (((-87.52534299999999 32.132773, ...</td>\n",
       "      <td>MULTIPOLYGON (((-88.139988 34.581703, -88.1352...</td>\n",
       "    </tr>\n",
       "    <tr>\n",
       "      <th>1</th>\n",
       "      <td>1129</td>\n",
       "      <td>Washington County, Alabama</td>\n",
       "      <td>ALABAMA</td>\n",
       "      <td>0.23</td>\n",
       "      <td>0.11</td>\n",
       "      <td>0.73</td>\n",
       "      <td>High Concern</td>\n",
       "      <td>0.82</td>\n",
       "      <td>Very High Concern</td>\n",
       "      <td>0.192</td>\n",
       "      <td>0.0146</td>\n",
       "      <td>0.0731</td>\n",
       "      <td>0.0025</td>\n",
       "      <td>0.2354</td>\n",
       "      <td>0.0000</td>\n",
       "      <td>0.6495</td>\n",
       "      <td>POINT (-86.844516 32.756889)</td>\n",
       "      <td>AL</td>\n",
       "      <td>MULTIPOLYGON (((-88.45317899999999 31.505388, ...</td>\n",
       "      <td>MULTIPOLYGON (((-88.139988 34.581703, -88.1352...</td>\n",
       "    </tr>\n",
       "    <tr>\n",
       "      <th>2</th>\n",
       "      <td>1133</td>\n",
       "      <td>Winston County, Alabama</td>\n",
       "      <td>ALABAMA</td>\n",
       "      <td>0.22</td>\n",
       "      <td>0.11</td>\n",
       "      <td>0.70</td>\n",
       "      <td>High Concern</td>\n",
       "      <td>0.80</td>\n",
       "      <td>High Concern</td>\n",
       "      <td>0.085</td>\n",
       "      <td>0.0315</td>\n",
       "      <td>0.0034</td>\n",
       "      <td>0.0016</td>\n",
       "      <td>0.0073</td>\n",
       "      <td>0.0005</td>\n",
       "      <td>0.9370</td>\n",
       "      <td>POINT (-86.844516 32.756889)</td>\n",
       "      <td>AL</td>\n",
       "      <td>MULTIPOLYGON (((-87.63656399999999 34.120908, ...</td>\n",
       "      <td>MULTIPOLYGON (((-88.139988 34.581703, -88.1352...</td>\n",
       "    </tr>\n",
       "    <tr>\n",
       "      <th>3</th>\n",
       "      <td>1127</td>\n",
       "      <td>Walker County, Alabama</td>\n",
       "      <td>ALABAMA</td>\n",
       "      <td>0.23</td>\n",
       "      <td>0.11</td>\n",
       "      <td>0.75</td>\n",
       "      <td>High Concern</td>\n",
       "      <td>0.68</td>\n",
       "      <td>High Concern</td>\n",
       "      <td>0.158</td>\n",
       "      <td>0.0249</td>\n",
       "      <td>0.0015</td>\n",
       "      <td>0.0049</td>\n",
       "      <td>0.0617</td>\n",
       "      <td>0.0000</td>\n",
       "      <td>0.8895</td>\n",
       "      <td>POINT (-86.844516 32.756889)</td>\n",
       "      <td>AL</td>\n",
       "      <td>MULTIPOLYGON (((-87.56108499999999 33.868713, ...</td>\n",
       "      <td>MULTIPOLYGON (((-88.139988 34.581703, -88.1352...</td>\n",
       "    </tr>\n",
       "    <tr>\n",
       "      <th>4</th>\n",
       "      <td>2013</td>\n",
       "      <td>Aleutians East Borough, Alaska</td>\n",
       "      <td>ALASKA</td>\n",
       "      <td>0.26</td>\n",
       "      <td>0.12</td>\n",
       "      <td>0.58</td>\n",
       "      <td>Moderate Concern</td>\n",
       "      <td>0.87</td>\n",
       "      <td>Very High Concern</td>\n",
       "      <td>0.195</td>\n",
       "      <td>0.0901</td>\n",
       "      <td>0.4588</td>\n",
       "      <td>0.1968</td>\n",
       "      <td>0.0322</td>\n",
       "      <td>0.0100</td>\n",
       "      <td>0.1321</td>\n",
       "      <td>POINT (-151.631889 63.631126)</td>\n",
       "      <td>AK</td>\n",
       "      <td>MULTIPOLYGON (((-165.036163 54.576598, -165.01...</td>\n",
       "      <td>MULTIPOLYGON (((-165.254162 60.917108, -165.30...</td>\n",
       "    </tr>\n",
       "  </tbody>\n",
       "</table>\n",
       "</div>"
      ],
      "text/plain": [
       "   FIPS Code                     County Name    State  Estimated hesitant  \\\n",
       "0       1131          Wilcox County, Alabama  ALABAMA                0.23   \n",
       "1       1129      Washington County, Alabama  ALABAMA                0.23   \n",
       "2       1133         Winston County, Alabama  ALABAMA                0.22   \n",
       "3       1127          Walker County, Alabama  ALABAMA                0.23   \n",
       "4       2013  Aleutians East Borough, Alaska   ALASKA                0.26   \n",
       "\n",
       "   Estimated strongly hesitant  Social Vulnerability Index (SVI)  \\\n",
       "0                         0.11                              0.93   \n",
       "1                         0.11                              0.73   \n",
       "2                         0.11                              0.70   \n",
       "3                         0.11                              0.75   \n",
       "4                         0.12                              0.58   \n",
       "\n",
       "        SVI Category  CVAC level of concern for vaccination rollout  \\\n",
       "0  Very High Concern                                           0.94   \n",
       "1       High Concern                                           0.82   \n",
       "2       High Concern                                           0.80   \n",
       "3       High Concern                                           0.68   \n",
       "4   Moderate Concern                                           0.87   \n",
       "\n",
       "  CVAC Level Of Concern  Percent adults fully vaccinated against COVID-19  \\\n",
       "0     Very High Concern                                             0.228   \n",
       "1     Very High Concern                                             0.192   \n",
       "2          High Concern                                             0.085   \n",
       "3          High Concern                                             0.158   \n",
       "4     Very High Concern                                             0.195   \n",
       "\n",
       "   Percent Hispanic  Percent non-Hispanic American Indian/Alaska Native  \\\n",
       "0            0.0053                                             0.0009    \n",
       "1            0.0146                                             0.0731    \n",
       "2            0.0315                                             0.0034    \n",
       "3            0.0249                                             0.0015    \n",
       "4            0.0901                                             0.4588    \n",
       "\n",
       "   Percent non-Hispanic Asian  Percent non-Hispanic Black  \\\n",
       "0                      0.0003                      0.6938   \n",
       "1                      0.0025                      0.2354   \n",
       "2                      0.0016                      0.0073   \n",
       "3                      0.0049                      0.0617   \n",
       "4                      0.1968                      0.0322   \n",
       "\n",
       "   Percent non-Hispanic Native Hawaiian/Pacific Islander  \\\n",
       "0                                             0.0000       \n",
       "1                                             0.0000       \n",
       "2                                             0.0005       \n",
       "3                                             0.0000       \n",
       "4                                             0.0100       \n",
       "\n",
       "   Percent non-Hispanic White             Geographical Point State Code  \\\n",
       "0                      0.2684   POINT (-86.844516 32.756889)         AL   \n",
       "1                      0.6495   POINT (-86.844516 32.756889)         AL   \n",
       "2                      0.9370   POINT (-86.844516 32.756889)         AL   \n",
       "3                      0.8895   POINT (-86.844516 32.756889)         AL   \n",
       "4                      0.1321  POINT (-151.631889 63.631126)         AK   \n",
       "\n",
       "                                     County Boundary  \\\n",
       "0  MULTIPOLYGON (((-87.52534299999999 32.132773, ...   \n",
       "1  MULTIPOLYGON (((-88.45317899999999 31.505388, ...   \n",
       "2  MULTIPOLYGON (((-87.63656399999999 34.120908, ...   \n",
       "3  MULTIPOLYGON (((-87.56108499999999 33.868713, ...   \n",
       "4  MULTIPOLYGON (((-165.036163 54.576598, -165.01...   \n",
       "\n",
       "                                      State Boundary  \n",
       "0  MULTIPOLYGON (((-88.139988 34.581703, -88.1352...  \n",
       "1  MULTIPOLYGON (((-88.139988 34.581703, -88.1352...  \n",
       "2  MULTIPOLYGON (((-88.139988 34.581703, -88.1352...  \n",
       "3  MULTIPOLYGON (((-88.139988 34.581703, -88.1352...  \n",
       "4  MULTIPOLYGON (((-165.254162 60.917108, -165.30...  "
      ]
     },
     "execution_count": 3,
     "metadata": {},
     "output_type": "execute_result"
    }
   ],
   "source": [
    "## Import data from CSV\n",
    "hesitancy_df = pd.read_csv(\"data/Vaccine_Hesitancy_Covid19.csv\")\n",
    "hesitancy_df.head()"
   ]
  },
  {
   "cell_type": "code",
   "execution_count": 4,
   "metadata": {},
   "outputs": [
    {
     "data": {
      "text/plain": [
       "97.89445257797577"
      ]
     },
     "execution_count": 4,
     "metadata": {},
     "output_type": "execute_result"
    }
   ],
   "source": [
    "hesitancy_df.iloc[:,10:16].sum(axis=1).mean()*100"
   ]
  },
  {
   "cell_type": "code",
   "execution_count": 7,
   "metadata": {
    "scrolled": true
   },
   "outputs": [
    {
     "data": {
      "text/html": [
       "<div>\n",
       "<style scoped>\n",
       "    .dataframe tbody tr th:only-of-type {\n",
       "        vertical-align: middle;\n",
       "    }\n",
       "\n",
       "    .dataframe tbody tr th {\n",
       "        vertical-align: top;\n",
       "    }\n",
       "\n",
       "    .dataframe thead th {\n",
       "        text-align: right;\n",
       "    }\n",
       "</style>\n",
       "<table border=\"1\" class=\"dataframe\">\n",
       "  <thead>\n",
       "    <tr style=\"text-align: right;\">\n",
       "      <th></th>\n",
       "      <th>FIPS Code</th>\n",
       "      <th>Social Vulnerability Index (SVI)</th>\n",
       "      <th>SVI Category</th>\n",
       "      <th>Percent adults fully vaccinated against COVID-19</th>\n",
       "      <th>Percent Hispanic</th>\n",
       "      <th>Percent non-Hispanic American Indian/Alaska Native</th>\n",
       "      <th>Percent non-Hispanic Asian</th>\n",
       "      <th>Percent non-Hispanic Black</th>\n",
       "      <th>Percent non-Hispanic Native Hawaiian/Pacific Islander</th>\n",
       "      <th>Percent non-Hispanic White</th>\n",
       "    </tr>\n",
       "  </thead>\n",
       "  <tbody>\n",
       "    <tr>\n",
       "      <th>0</th>\n",
       "      <td>1131</td>\n",
       "      <td>0.93</td>\n",
       "      <td>Very High Concern</td>\n",
       "      <td>0.228</td>\n",
       "      <td>0.0053</td>\n",
       "      <td>0.0009</td>\n",
       "      <td>0.0003</td>\n",
       "      <td>0.6938</td>\n",
       "      <td>0.0000</td>\n",
       "      <td>0.2684</td>\n",
       "    </tr>\n",
       "    <tr>\n",
       "      <th>1</th>\n",
       "      <td>1129</td>\n",
       "      <td>0.73</td>\n",
       "      <td>High Concern</td>\n",
       "      <td>0.192</td>\n",
       "      <td>0.0146</td>\n",
       "      <td>0.0731</td>\n",
       "      <td>0.0025</td>\n",
       "      <td>0.2354</td>\n",
       "      <td>0.0000</td>\n",
       "      <td>0.6495</td>\n",
       "    </tr>\n",
       "    <tr>\n",
       "      <th>2</th>\n",
       "      <td>1133</td>\n",
       "      <td>0.70</td>\n",
       "      <td>High Concern</td>\n",
       "      <td>0.085</td>\n",
       "      <td>0.0315</td>\n",
       "      <td>0.0034</td>\n",
       "      <td>0.0016</td>\n",
       "      <td>0.0073</td>\n",
       "      <td>0.0005</td>\n",
       "      <td>0.9370</td>\n",
       "    </tr>\n",
       "    <tr>\n",
       "      <th>3</th>\n",
       "      <td>1127</td>\n",
       "      <td>0.75</td>\n",
       "      <td>High Concern</td>\n",
       "      <td>0.158</td>\n",
       "      <td>0.0249</td>\n",
       "      <td>0.0015</td>\n",
       "      <td>0.0049</td>\n",
       "      <td>0.0617</td>\n",
       "      <td>0.0000</td>\n",
       "      <td>0.8895</td>\n",
       "    </tr>\n",
       "    <tr>\n",
       "      <th>4</th>\n",
       "      <td>2013</td>\n",
       "      <td>0.58</td>\n",
       "      <td>Moderate Concern</td>\n",
       "      <td>0.195</td>\n",
       "      <td>0.0901</td>\n",
       "      <td>0.4588</td>\n",
       "      <td>0.1968</td>\n",
       "      <td>0.0322</td>\n",
       "      <td>0.0100</td>\n",
       "      <td>0.1321</td>\n",
       "    </tr>\n",
       "  </tbody>\n",
       "</table>\n",
       "</div>"
      ],
      "text/plain": [
       "   FIPS Code  Social Vulnerability Index (SVI)       SVI Category  \\\n",
       "0       1131                              0.93  Very High Concern   \n",
       "1       1129                              0.73       High Concern   \n",
       "2       1133                              0.70       High Concern   \n",
       "3       1127                              0.75       High Concern   \n",
       "4       2013                              0.58   Moderate Concern   \n",
       "\n",
       "   Percent adults fully vaccinated against COVID-19  Percent Hispanic  \\\n",
       "0                                             0.228            0.0053   \n",
       "1                                             0.192            0.0146   \n",
       "2                                             0.085            0.0315   \n",
       "3                                             0.158            0.0249   \n",
       "4                                             0.195            0.0901   \n",
       "\n",
       "   Percent non-Hispanic American Indian/Alaska Native  \\\n",
       "0                                             0.0009    \n",
       "1                                             0.0731    \n",
       "2                                             0.0034    \n",
       "3                                             0.0015    \n",
       "4                                             0.4588    \n",
       "\n",
       "   Percent non-Hispanic Asian  Percent non-Hispanic Black  \\\n",
       "0                      0.0003                      0.6938   \n",
       "1                      0.0025                      0.2354   \n",
       "2                      0.0016                      0.0073   \n",
       "3                      0.0049                      0.0617   \n",
       "4                      0.1968                      0.0322   \n",
       "\n",
       "   Percent non-Hispanic Native Hawaiian/Pacific Islander  \\\n",
       "0                                             0.0000       \n",
       "1                                             0.0000       \n",
       "2                                             0.0005       \n",
       "3                                             0.0000       \n",
       "4                                             0.0100       \n",
       "\n",
       "   Percent non-Hispanic White  \n",
       "0                      0.2684  \n",
       "1                      0.6495  \n",
       "2                      0.9370  \n",
       "3                      0.8895  \n",
       "4                      0.1321  "
      ]
     },
     "execution_count": 7,
     "metadata": {},
     "output_type": "execute_result"
    }
   ],
   "source": [
    "columns = [\n",
    "    \"FIPS Code\",\n",
    "    \"Social Vulnerability Index (SVI)\",\n",
    "    \"SVI Category\",\n",
    "    \"Percent adults fully vaccinated against COVID-19\",\n",
    "    \"Percent Hispanic\",\n",
    "    \"Percent non-Hispanic American Indian/Alaska Native\",\n",
    "    \"Percent non-Hispanic Asian\",\n",
    "    \"Percent non-Hispanic Black\",\n",
    "    \"Percent non-Hispanic Native Hawaiian/Pacific Islander\",\n",
    "    \"Percent non-Hispanic White\"\n",
    "]\n",
    "\n",
    "vaccination_df = hesitancy_df[columns]\n",
    "vaccination_df.head()"
   ]
  },
  {
   "cell_type": "markdown",
   "metadata": {},
   "source": [
    "### Pendiente\n",
    "- (Mariana) Calcular y agregar Other"
   ]
  },
  {
   "cell_type": "code",
   "execution_count": 6,
   "metadata": {},
   "outputs": [
    {
     "data": {
      "text/plain": [
       "0       0.0313\n",
       "1       0.0249\n",
       "2       0.0187\n",
       "3       0.0175\n",
       "4       0.0800\n",
       "         ...  \n",
       "3137    0.0293\n",
       "3138    0.0079\n",
       "3139    0.0228\n",
       "3140    0.0202\n",
       "3141    0.0092\n",
       "Length: 3142, dtype: float64"
      ]
     },
     "execution_count": 6,
     "metadata": {},
     "output_type": "execute_result"
    }
   ],
   "source": [
    "total_pct_race = hesitancy_df.iloc[:,10:16].sum(axis=1)\n",
    "Percent_others = 1.0 -total_pct_race\n",
    "Percent_others"
   ]
  },
  {
   "cell_type": "code",
   "execution_count": null,
   "metadata": {},
   "outputs": [],
   "source": [
    "#Add Percent Other column \n"
   ]
  },
  {
   "cell_type": "code",
   "execution_count": null,
   "metadata": {},
   "outputs": [],
   "source": [
    "len(vaccination_df)"
   ]
  },
  {
   "cell_type": "markdown",
   "metadata": {},
   "source": [
    "### US Census Reference (2019)"
   ]
  },
  {
   "cell_type": "code",
   "execution_count": null,
   "metadata": {},
   "outputs": [],
   "source": [
    "census_df = pd.read_csv(\"data/US_Census2019.csv\")\n",
    "census_df.head()"
   ]
  },
  {
   "cell_type": "code",
   "execution_count": null,
   "metadata": {},
   "outputs": [],
   "source": [
    "census_df.iloc[1:5,15:23].head()"
   ]
  },
  {
   "cell_type": "code",
   "execution_count": null,
   "metadata": {},
   "outputs": [],
   "source": [
    "county_pop_df = census_df[[\"STATE\", \"COUNTY\",\"STNAME\",\"CTYNAME\", \"POPESTIMATE2019\"]]\n",
    "# str(census_df['STATE']) + str(census_df['COUNTY'])"
   ]
  },
  {
   "cell_type": "code",
   "execution_count": null,
   "metadata": {},
   "outputs": [],
   "source": [
    "county_pop_df.head()"
   ]
  },
  {
   "cell_type": "markdown",
   "metadata": {},
   "source": [
    "### Pendiente\n",
    "- (María) Separar County=0 en df aparte\n",
    "- (María) Eliminar County=0 del actual\n",
    "- (María) Armar y agregar County_FIPS"
   ]
  },
  {
   "cell_type": "code",
   "execution_count": null,
   "metadata": {},
   "outputs": [],
   "source": [
    "county_pop_df['POPESTIMATE2019'].sum()"
   ]
  },
  {
   "cell_type": "code",
   "execution_count": null,
   "metadata": {},
   "outputs": [],
   "source": []
  },
  {
   "cell_type": "markdown",
   "metadata": {},
   "source": [
    "### Covid-19 Case Surveillance\n"
   ]
  },
  {
   "cell_type": "code",
   "execution_count": null,
   "metadata": {},
   "outputs": [],
   "source": [
    "cases = pd.read_csv(\"data/COVID-19_Case_Surveillance_Public_Use_Data_with_Geography.csv\", chunksize=1000)"
   ]
  },
  {
   "cell_type": "code",
   "execution_count": null,
   "metadata": {},
   "outputs": [],
   "source": [
    "cases1 = pd.DataFrame(cases)"
   ]
  },
  {
   "cell_type": "code",
   "execution_count": null,
   "metadata": {},
   "outputs": [],
   "source": [
    "import pandas as pd\n",
    "from sodapy import Socrata\n",
    "\n",
    "\n",
    "# Unauthenticated client only works with public data sets. Note 'None'\n",
    "# in place of application token, and no username or password:\n",
    "client = Socrata(\"data.cdc.gov\", None)\n",
    "\n",
    "# Example authenticated client (needed for non-public datasets):\n",
    "# client = Socrata(data.cdc.gov,\n",
    "#                  MyAppToken,\n",
    "#                  userame=\"user@example.com\",\n",
    "#                  password=\"AFakePassword\")\n",
    "\n",
    "# First 2000 results, returned as JSON from API / converted to Python list of\n",
    "# dictionaries by sodapy.\n",
    "results = client.get(\"n8mc-b4w4\", limit=1000)\n",
    "\n",
    "# Convert to pandas DataFrame\n",
    "results_df = pd.DataFrame.from_records(results)\n"
   ]
  },
  {
   "cell_type": "code",
   "execution_count": null,
   "metadata": {},
   "outputs": [],
   "source": [
    "results_df.tail()"
   ]
  },
  {
   "cell_type": "code",
   "execution_count": null,
   "metadata": {},
   "outputs": [],
   "source": []
  },
  {
   "cell_type": "code",
   "execution_count": null,
   "metadata": {},
   "outputs": [],
   "source": [
    "len(results_df['case_month'].unique())"
   ]
  },
  {
   "cell_type": "code",
   "execution_count": null,
   "metadata": {},
   "outputs": [],
   "source": [
    "results_df.sort_values(['case_month'], ascending=True)"
   ]
  },
  {
   "cell_type": "code",
   "execution_count": null,
   "metadata": {},
   "outputs": [],
   "source": [
    "results_df['sex'].loc[results_df['ethnicity'] != \"Hispanic/Latino\"].value_counts()"
   ]
  },
  {
   "cell_type": "code",
   "execution_count": null,
   "metadata": {},
   "outputs": [],
   "source": [
    "results_df['age_group'].value_counts()"
   ]
  },
  {
   "cell_type": "code",
   "execution_count": null,
   "metadata": {},
   "outputs": [],
   "source": [
    "columns = [\n",
    "    \"county_fips_code\",\n",
    "    \"case_month\",\n",
    "    \"current_status\",\n",
    "    \"sex\",\n",
    "    \"age_group\",\n",
    "    \"race\",\n",
    "    \"ethnicity\",\n",
    "    \"hosp_yn\",\n",
    "    \"icu_yn\",\n",
    "    \"death_yn\"\n",
    "]\n",
    "\n",
    "cases_df = results_df[columns]\n",
    "cases_df.tail()"
   ]
  },
  {
   "cell_type": "markdown",
   "metadata": {},
   "source": [
    "### Pendientes\n",
    "\n",
    "- Definir fecha de corte (28/4/2021 = vaccination)\n",
    "- Eliminar \"probable case\"\n",
    "\n",
    "<br>\n",
    "\n",
    "- (Ric) Cambiar \"case_month\" a timestamp\n",
    "- (Ana) ***Nomenclatura AGEGRP de US Census a age_group***\n",
    "- (Ana) ***Nomenclatura race/ethnicity combined***\n",
    "- (Ric) Contar número de líneas del CSV Original (Case Surveillance: 24,441,351)\n",
    "- (Ric) Bajar TODA la información\n",
    "- (Mariana) ***Revisar Socrata***"
   ]
  },
  {
   "cell_type": "code",
   "execution_count": 2,
   "metadata": {},
   "outputs": [
    {
     "name": "stderr",
     "output_type": "stream",
     "text": [
      "WARNING:root:Requests made without an app_token will be subject to strict throttling limits.\n"
     ]
    },
    {
     "data": {
      "text/plain": [
       "['case_month',\n",
       " 'res_state',\n",
       " 'state_fips_code',\n",
       " 'res_county',\n",
       " 'county_fips_code',\n",
       " 'age_group',\n",
       " 'sex',\n",
       " 'race',\n",
       " 'ethnicity',\n",
       " 'case_positive_specimen_interval',\n",
       " 'case_onset_interval',\n",
       " 'process',\n",
       " 'exposure_yn',\n",
       " 'current_status',\n",
       " 'symptom_status',\n",
       " 'hosp_yn',\n",
       " 'icu_yn',\n",
       " 'death_yn',\n",
       " 'underlying_conditions_yn']"
      ]
     },
     "execution_count": 2,
     "metadata": {},
     "output_type": "execute_result"
    }
   ],
   "source": [
    "import pandas as pd\n",
    "import sqlalchemy\n",
    "from sodapy import Socrata\n",
    "\n",
    "socrata_domain = 'data.cdc.gov'\n",
    "socrata_dataset_identifier = \"n8mc-b4w4\"\n",
    "\n",
    "# Unauthenticated client only works with public data sets. Note 'None'\n",
    "# in place of application token, and no username or password:\n",
    "client = Socrata(socrata_domain, None)\n",
    "\n",
    "#Get metadata\n",
    "metadata = client.get_metadata(socrata_dataset_identifier)\n",
    "[x['name'] for x in metadata['columns']]"
   ]
  },
  {
   "cell_type": "code",
   "execution_count": null,
   "metadata": {},
   "outputs": [],
   "source": [
    "results = client.get(socrata_dataset_identifier,limit = 24441351,\n",
    "                      #where = \"current_status\"==\"Laboratory-confirmed case\",\n",
    "                     select=\"county_fips_code,case_month,current_status,sex,age_group,race,ethnicity,hosp_yn,icu_yn,death_yn\"\n",
    "                    )\n",
    "                    \n",
    "tryout_df = pd.DataFrame.from_records(results)"
   ]
  },
  {
   "cell_type": "code",
   "execution_count": null,
   "metadata": {},
   "outputs": [],
   "source": [
    "tryout_df.head()"
   ]
  },
  {
   "cell_type": "code",
   "execution_count": null,
   "metadata": {},
   "outputs": [],
   "source": [
    "tryout_df['current_status'].value_counts()"
   ]
  },
  {
   "cell_type": "code",
   "execution_count": null,
   "metadata": {},
   "outputs": [],
   "source": [
    "url = https://data.cdc.gov/resource/n8mc-b4w4.json?case_month=2020-12&current_status=Laboratory-confirmed case"
   ]
  },
  {
   "cell_type": "code",
   "execution_count": null,
   "metadata": {},
   "outputs": [],
   "source": []
  }
 ],
 "metadata": {
  "kernelspec": {
   "display_name": "Python 3",
   "language": "python",
   "name": "python3"
  },
  "language_info": {
   "codemirror_mode": {
    "name": "ipython",
    "version": 3
   },
   "file_extension": ".py",
   "mimetype": "text/x-python",
   "name": "python",
   "nbconvert_exporter": "python",
   "pygments_lexer": "ipython3",
   "version": "3.8.5"
  }
 },
 "nbformat": 4,
 "nbformat_minor": 5
}
